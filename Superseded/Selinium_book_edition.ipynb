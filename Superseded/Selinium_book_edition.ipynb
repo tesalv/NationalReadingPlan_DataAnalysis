{
 "cells": [
  {
   "cell_type": "code",
   "execution_count": 9,
   "metadata": {},
   "outputs": [],
   "source": [
    "# this is a library that we will use in order for creating break times in order to mimic the human behaviour \n",
    "import time\n",
    "\n",
    "#this library will be used for getting your credential's and don't be shown in the scrip \n",
    "from getpass import getpass\n",
    "\n",
    "#this are the libraries we will be using for interacting with a webpage\n",
    "# from selenium import webdriver\n",
    "# from selenium.webdriver.common.keys import Keys\n",
    "from selenium import webdriver\n",
    "from selenium.webdriver.common.keys import Keys\n",
    "from selenium.webdriver.common.by import By\n",
    "from selenium.webdriver.chrome.service import Service\n",
    "from webdriver_manager.chrome import ChromeDriverManager\n",
    "from selenium.webdriver.support.ui import Select\n",
    "import random\n",
    "\n",
    "from bs4 import BeautifulSoup\n",
    "import re \n",
    "\n",
    "# library to open interact with operating system\n",
    "import os\n",
    "\n",
    "# You know pandas it's your best buddy \n",
    "import pandas as pd"
   ]
  },
  {
   "cell_type": "code",
   "execution_count": 20,
   "metadata": {},
   "outputs": [],
   "source": [
    "# installing driver\n",
    "driver = webdriver.Chrome(service=Service(ChromeDriverManager().install()))\n",
    "        # opening wesite\n",
    "driver.get('https://www.goodreads.com/')"
   ]
  },
  {
   "cell_type": "code",
   "execution_count": 23,
   "metadata": {},
   "outputs": [],
   "source": [
    "#list of books\n",
    "\n",
    "book_titles=[\"O mundo que conhecíamos\"]\n",
    "\n"
   ]
  },
  {
   "cell_type": "code",
   "execution_count": 24,
   "metadata": {},
   "outputs": [
    {
     "ename": "TypeError",
     "evalue": "'NoneType' object is not subscriptable",
     "output_type": "error",
     "traceback": [
      "\u001b[1;31m---------------------------------------------------------------------------\u001b[0m",
      "\u001b[1;31mTypeError\u001b[0m                                 Traceback (most recent call last)",
      "\u001b[1;32mc:\\Users\\te_sa\\Teresa\\Ironhack\\Projects\\Project 5\\Selinium_book_edition.ipynb Cell 4\u001b[0m in \u001b[0;36m<cell line: 3>\u001b[1;34m()\u001b[0m\n\u001b[0;32m     <a href='vscode-notebook-cell:/c%3A/Users/te_sa/Teresa/Ironhack/Projects/Project%205/Selinium_book_edition.ipynb#W3sZmlsZQ%3D%3D?line=18'>19</a>\u001b[0m soup \u001b[39m=\u001b[39m BeautifulSoup(html)\n\u001b[0;32m     <a href='vscode-notebook-cell:/c%3A/Users/te_sa/Teresa/Ironhack/Projects/Project%205/Selinium_book_edition.ipynb#W3sZmlsZQ%3D%3D?line=20'>21</a>\u001b[0m first_edition\u001b[39m=\u001b[39msoup\u001b[39m.\u001b[39mfind(\u001b[39m\"\u001b[39m\u001b[39mp\u001b[39m\u001b[39m\"\u001b[39m,attrs\u001b[39m=\u001b[39m{\u001b[39m\"\u001b[39m\u001b[39mdata-testid\u001b[39m\u001b[39m\"\u001b[39m:\u001b[39m\"\u001b[39m\u001b[39mpublicationInfo\u001b[39m\u001b[39m\"\u001b[39m})\n\u001b[1;32m---> <a href='vscode-notebook-cell:/c%3A/Users/te_sa/Teresa/Ironhack/Projects/Project%205/Selinium_book_edition.ipynb#W3sZmlsZQ%3D%3D?line=21'>22</a>\u001b[0m edition\u001b[39m=\u001b[39mfirst_edition[\u001b[39m0\u001b[39;49m]\n",
      "\u001b[1;31mTypeError\u001b[0m: 'NoneType' object is not subscriptable"
     ]
    }
   ],
   "source": [
    "#getting html from settings we want to look for in the page\n",
    "\n",
    "for book in book_titles:\n",
    "\n",
    "  insert_section = driver.find_element(By.CSS_SELECTOR, \"input[class^='searchBox__input searchBox__input--navbar']\")\n",
    "  insert_section.click()\n",
    "\n",
    "  time.sleep(random.randint(1,2))\n",
    "\n",
    "  # inserting book title\n",
    "  insert_section.send_keys(book_titles[0])\n",
    "  insert_section.send_keys(Keys.ENTER)\n",
    "\n",
    "  #go to book title\n",
    "  insert_section = driver.find_element(By.CSS_SELECTOR, \"a[class^='bookTitle']\")\n",
    "  insert_section.click()\n",
    "\n",
    "  html = driver.page_source\n",
    "  soup = BeautifulSoup(html)\n",
    "\n",
    "  first_edition=soup.find(\"p\",attrs={\"data-testid\":\"publicationInfo\"})\n",
    "  edition=first_edition[0]\n",
    "\n",
    "#select search bar \n",
    "#search_bar =Select(driver.find_element(By.CSS_SELECTOR, \"input[class^='atividade_filter']\"))\n",
    "# search_bar =driver.find_element(By.XPATH, '//*[@id=\"search_terms\"]')\n",
    "# search_bar.send_keys(Keys.ENTER)\n",
    "# time.sleep(12)\n",
    "\n",
    "# get the page you are in using page_source attribute \n",
    "#html = driver.page_source\n",
    "    \n",
    "    \n",
    "  #"
   ]
  },
  {
   "cell_type": "code",
   "execution_count": null,
   "metadata": {},
   "outputs": [
    {
     "data": {
      "text/plain": [
       "'First published January 1, 1938'"
      ]
     },
     "execution_count": 27,
     "metadata": {},
     "output_type": "execute_result"
    }
   ],
   "source": []
  },
  {
   "cell_type": "code",
   "execution_count": null,
   "metadata": {},
   "outputs": [],
   "source": [
    "\n",
    "   "
   ]
  },
  {
   "cell_type": "code",
   "execution_count": null,
   "metadata": {},
   "outputs": [],
   "source": [
    "## save the database in csv file\n",
    "\n",
    "#def export_csv(df):\n",
    "    \n",
    "    #return df.to_csv(f\"datasets\\PNL_{age}_{period}.csv\",encoding='latin1')"
   ]
  },
  {
   "cell_type": "code",
   "execution_count": null,
   "metadata": {},
   "outputs": [],
   "source": []
  },
  {
   "cell_type": "code",
   "execution_count": null,
   "metadata": {},
   "outputs": [],
   "source": [
    "\n"
   ]
  },
  {
   "cell_type": "code",
   "execution_count": null,
   "metadata": {},
   "outputs": [],
   "source": [
    "\n",
    "\n"
   ]
  },
  {
   "cell_type": "code",
   "execution_count": null,
   "metadata": {},
   "outputs": [],
   "source": [
    "\n"
   ]
  },
  {
   "cell_type": "code",
   "execution_count": null,
   "metadata": {},
   "outputs": [],
   "source": []
  },
  {
   "cell_type": "code",
   "execution_count": null,
   "metadata": {},
   "outputs": [],
   "source": []
  }
 ],
 "metadata": {
  "kernelspec": {
   "display_name": "Python 3.9.13 ('ironhack')",
   "language": "python",
   "name": "python3"
  },
  "language_info": {
   "codemirror_mode": {
    "name": "ipython",
    "version": 3
   },
   "file_extension": ".py",
   "mimetype": "text/x-python",
   "name": "python",
   "nbconvert_exporter": "python",
   "pygments_lexer": "ipython3",
   "version": "3.9.13"
  },
  "orig_nbformat": 4,
  "vscode": {
   "interpreter": {
    "hash": "4a38339ccb09af62c11572ee1f8d8bf4c38a6a8e49e8be3ae680a571cc75115c"
   }
  }
 },
 "nbformat": 4,
 "nbformat_minor": 2
}

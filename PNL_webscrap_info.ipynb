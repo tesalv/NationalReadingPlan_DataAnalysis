{
 "cells": [
  {
   "cell_type": "code",
   "execution_count": 33,
   "metadata": {},
   "outputs": [],
   "source": [
    "# this is a library that we will use in order for creating break times in order to mimic the human behaviour \n",
    "import time\n",
    "\n",
    "#this library will be used for getting your credential's and don't be shown in the scrip \n",
    "from getpass import getpass\n",
    "\n",
    "#this are the libraries we will be using for interacting with a webpage\n",
    "# from selenium import webdriver\n",
    "# from selenium.webdriver.common.keys import Keys\n",
    "from selenium import webdriver\n",
    "from selenium.webdriver.common.keys import Keys\n",
    "from selenium.webdriver.common.by import By\n",
    "from selenium.webdriver.chrome.service import Service\n",
    "from webdriver_manager.chrome import ChromeDriverManager\n",
    "from selenium.webdriver.support.ui import Select\n",
    "import random\n",
    "\n",
    "from bs4 import BeautifulSoup\n",
    "import re \n",
    "\n",
    "# library to open interact with operating system\n",
    "import os\n",
    "\n",
    "# You know pandas it's your best buddy \n",
    "import pandas as pd"
   ]
  },
  {
   "cell_type": "code",
   "execution_count": 34,
   "metadata": {},
   "outputs": [],
   "source": [
    "# installing driver\n",
    "driver = webdriver.Chrome(service=Service(ChromeDriverManager().install()))\n",
    "        # opening wesite\n",
    "driver.get('https://www.pnl2027.gov.pt/np4/livrospnl?cat_livrospnl=catalogo_blx#')"
   ]
  },
  {
   "cell_type": "code",
   "execution_count": 35,
   "metadata": {},
   "outputs": [],
   "source": [
    "#lists of potential parameters\n",
    "\n",
    "age_list=[\"0 - 2 anos\",\"3 - 5 anos\",\"6 - 8 anos\",\"9 - 11 anos\",\"12 - 14 anos\",\"15 - 18 anos\",\"maiores de 18 anos\"]\n",
    "\n",
    "theme_list=[\"Arte\",\"Banda Desenhada\",\"Biografia\",\"Ciência e Tecnologia\",\"Cultura e Sociedade\",\"Ensaio\",\"Literatura\",\"Poesia\",\"Vida Prática\"]\n",
    "\n",
    "period_list=[\"Antes 2017\"]\n",
    "#period_list=[\"Antes 2017\",\"2017\",\"2018 - 1.º Sem.\",\"2018 - 2.º Sem.\",\"2019 - 1.º Sem.\",\"2019 - 2.o Sem.\",\"2020 - 1.º Sem.\",\"2020 - 2.o Sem.\",\"2021 - 1.o Sem.\",\"2021 - 2.o Sem.\",\"2022 - 1.o Sem.\"]"
   ]
  },
  {
   "cell_type": "code",
   "execution_count": 36,
   "metadata": {},
   "outputs": [],
   "source": [
    "#getting html from settings we want to look for in the page\n",
    "\n",
    "def parameters_to_select(driver,age,theme,period):\n",
    "\n",
    "    select_age =Select(driver.find_element(By.ID,'limitbox_1'))\n",
    "    select_age.select_by_visible_text(age)\n",
    "    time.sleep(random.randint(1,2))\n",
    "\n",
    "    #select theme\n",
    "    select_theme =Select(driver.find_element(By.ID,'limitbox_3'))\n",
    "    select_theme.select_by_visible_text(theme)\n",
    "    time.sleep(random.randint(1,2))\n",
    "\n",
    "    #select period\n",
    "    select_period =Select(driver.find_element(By.ID,'limitbox_6'))\n",
    "    select_period.select_by_visible_text(period)\n",
    "    time.sleep(random.randint(1,2))\n",
    "\n",
    "\n",
    "    #select search bar \n",
    "    #search_bar =Select(driver.find_element(By.CSS_SELECTOR, \"input[class^='atividade_filter']\"))\n",
    "    search_bar =driver.find_element(By.XPATH, '//*[@id=\"search_terms\"]')\n",
    "    search_bar.send_keys(Keys.ENTER)\n",
    "    time.sleep(12)\n",
    "\n",
    "    # get the page you are in using page_source attribute \n",
    "    html = driver.page_source\n",
    "    \n",
    "    \n",
    "    return html"
   ]
  },
  {
   "cell_type": "code",
   "execution_count": 37,
   "metadata": {},
   "outputs": [],
   "source": [
    "def get_book_details(soup, res_pages):\n",
    "    book_titles=[]\n",
    "    book_author=[]\n",
    "    book_editor=[]\n",
    "    page_result=[]\n",
    "    pnl_edition=[]\n",
    "    location=2\n",
    "    for page in res_pages:\n",
    "\n",
    "        ## get the book details\n",
    "\n",
    "        tables = soup.find_all(\"div\",attrs={\"class\":\"newsDetailBlx\"})\n",
    "\n",
    "        # book_titles.append([(i.find(\"div\",attrs={\"class\":\"book_title\"})).text for i in tables])\n",
    "        # book_author.append([(i.find(\"div\",attrs={\"class\":\"book_author\"})).text for i in tables])\n",
    "        # book_editor.append([(i.find(\"div\",attrs={\"class\":\"book_editor\"})).text for i in tables])\n",
    "\n",
    "        for i in tables:\n",
    "            try:\n",
    "                book_titles.append(i.find(\"div\",attrs={\"class\":\"book_title\"}).text)\n",
    "                book_author.append(i.find(\"div\",attrs={\"class\":\"book_author\"}).text)\n",
    "                book_editor.append(i.find(\"div\",attrs={\"class\":\"book_editor\"}).text)\n",
    "                page_result.append(page)\n",
    "                pnl_edition.append(period)\n",
    "            except:\n",
    "                continue\n",
    "\n",
    "        ## go to next page\n",
    "        #page_nr=int(page)\n",
    "        if location>int(res_pages[-1]):\n",
    "            break\n",
    "        else:\n",
    "            select_page =driver.find_element(By.CSS_SELECTOR,f\"a[onclick^='event.preventDefault();changePage({location});']\")\n",
    "            select_page.click()\n",
    "            time.sleep(10)\n",
    "            #print(page)\n",
    "            \n",
    "            html = driver.page_source\n",
    "            soup = BeautifulSoup(html)\n",
    "            location +=1\n",
    "            #time.sleep(5)\n",
    "        \n",
    "    #create database with all the info\n",
    "    PNL=pd.DataFrame(list(zip(book_titles,book_author,book_editor,page_result,pnl_edition)),columns=[\"title\",\"author\",\"publisher\",\"res_page\",\"PNLedition\"])\n",
    "    PNL[\"age_recom\"]=age\n",
    "    PNL[\"theme\"]=theme\n",
    "    #PNL[\"PNLedition\"]=period\n",
    "    PNL[['1st_author',\"other_authors\"]] = PNL.author.str.split(';',n=1, expand=True,)\n",
    "    #PNL[\"results_page\"]=page\n",
    "    return PNL\n",
    "   "
   ]
  },
  {
   "cell_type": "code",
   "execution_count": 38,
   "metadata": {},
   "outputs": [],
   "source": [
    "## save the database in csv file\n",
    "\n",
    "def export_csv(df):\n",
    "    \n",
    "    return df.to_csv(f\"datasets\\PNL_{age}_{period}.csv\",encoding='latin1')"
   ]
  },
  {
   "cell_type": "code",
   "execution_count": 39,
   "metadata": {},
   "outputs": [],
   "source": [
    "## parameters we want to export data from\n",
    "\n",
    "#age_list=[\"0 - 2 anos\",\"3 - 5 anos\",\"6 - 8 anos\",\"9 - 11 anos\",\"12 - 14 anos\",\"15 - 18 anos\",\"maiores de 18 anos\"]\n",
    "age='6 - 8 anos'\n",
    "\n",
    "#theme_list=[\"Arte\",\"Banda Desenhada\",\"Biografia\",\"Ciência e Tecnologia\",\"Cultura e Sociedade\",\"Ensaio\",\"Literatura\",\"Poesia\",\"Vida Prática\"]\n",
    "theme='Literatura'\n",
    "\n",
    "#period_list=[\"Antes 2017\",\"2017\",\"2018 - 1.º Sem.\",\"2018 - 2.º Sem.\",\"2019 - 1.º Sem.\",\"2019 - 2.o Sem.\",\"2020 - 1.º Sem.\",\"2020 - 2.o Sem.\",\"2021 - 1.o Sem.\",\"2021 - 2.o Sem.\",\"2022 - 1.o Sem.\"]\n",
    "#period='2022 - 1.o Sem.'"
   ]
  },
  {
   "cell_type": "code",
   "execution_count": 40,
   "metadata": {},
   "outputs": [
    {
     "ename": "UnicodeEncodeError",
     "evalue": "'latin-1' codec can't encode character '\\u201a' in position 60: ordinal not in range(256)",
     "output_type": "error",
     "traceback": [
      "\u001b[1;31m---------------------------------------------------------------------------\u001b[0m",
      "\u001b[1;31mUnicodeEncodeError\u001b[0m                        Traceback (most recent call last)",
      "\u001b[1;32mc:\\Users\\te_sa\\Teresa\\Ironhack\\Projects\\Project 5\\PNL_Selenium_funct.ipynb Cell 8\u001b[0m in \u001b[0;36m<cell line: 1>\u001b[1;34m()\u001b[0m\n\u001b[0;32m     <a href='vscode-notebook-cell:/c%3A/Users/te_sa/Teresa/Ironhack/Projects/Project%205/PNL_Selenium_funct.ipynb#X10sZmlsZQ%3D%3D?line=20'>21</a>\u001b[0m book_editor\u001b[39m=\u001b[39m[]\n\u001b[0;32m     <a href='vscode-notebook-cell:/c%3A/Users/te_sa/Teresa/Ironhack/Projects/Project%205/PNL_Selenium_funct.ipynb#X10sZmlsZQ%3D%3D?line=22'>23</a>\u001b[0m PNL_df\u001b[39m=\u001b[39mget_book_details(soup,page_results)\n\u001b[1;32m---> <a href='vscode-notebook-cell:/c%3A/Users/te_sa/Teresa/Ironhack/Projects/Project%205/PNL_Selenium_funct.ipynb#X10sZmlsZQ%3D%3D?line=24'>25</a>\u001b[0m export_csv(PNL_df)\n",
      "\u001b[1;32mc:\\Users\\te_sa\\Teresa\\Ironhack\\Projects\\Project 5\\PNL_Selenium_funct.ipynb Cell 8\u001b[0m in \u001b[0;36mexport_csv\u001b[1;34m(df)\u001b[0m\n\u001b[0;32m      <a href='vscode-notebook-cell:/c%3A/Users/te_sa/Teresa/Ironhack/Projects/Project%205/PNL_Selenium_funct.ipynb#X10sZmlsZQ%3D%3D?line=2'>3</a>\u001b[0m \u001b[39mdef\u001b[39;00m \u001b[39mexport_csv\u001b[39m(df):\n\u001b[1;32m----> <a href='vscode-notebook-cell:/c%3A/Users/te_sa/Teresa/Ironhack/Projects/Project%205/PNL_Selenium_funct.ipynb#X10sZmlsZQ%3D%3D?line=4'>5</a>\u001b[0m     \u001b[39mreturn\u001b[39;00m df\u001b[39m.\u001b[39;49mto_csv(\u001b[39mf\u001b[39;49m\u001b[39m\"\u001b[39;49m\u001b[39mdatasets\u001b[39;49m\u001b[39m\\\u001b[39;49m\u001b[39mPNL_\u001b[39;49m\u001b[39m{\u001b[39;49;00mage\u001b[39m}\u001b[39;49;00m\u001b[39m_\u001b[39;49m\u001b[39m{\u001b[39;49;00mperiod\u001b[39m}\u001b[39;49;00m\u001b[39m.csv\u001b[39;49m\u001b[39m\"\u001b[39;49m,encoding\u001b[39m=\u001b[39;49m\u001b[39m'\u001b[39;49m\u001b[39mlatin1\u001b[39;49m\u001b[39m'\u001b[39;49m)\n",
      "File \u001b[1;32mc:\\Users\\te_sa\\anaconda3\\envs\\ironhack\\lib\\site-packages\\pandas\\core\\generic.py:3551\u001b[0m, in \u001b[0;36mNDFrame.to_csv\u001b[1;34m(self, path_or_buf, sep, na_rep, float_format, columns, header, index, index_label, mode, encoding, compression, quoting, quotechar, line_terminator, chunksize, date_format, doublequote, escapechar, decimal, errors, storage_options)\u001b[0m\n\u001b[0;32m   3540\u001b[0m df \u001b[39m=\u001b[39m \u001b[39mself\u001b[39m \u001b[39mif\u001b[39;00m \u001b[39misinstance\u001b[39m(\u001b[39mself\u001b[39m, ABCDataFrame) \u001b[39melse\u001b[39;00m \u001b[39mself\u001b[39m\u001b[39m.\u001b[39mto_frame()\n\u001b[0;32m   3542\u001b[0m formatter \u001b[39m=\u001b[39m DataFrameFormatter(\n\u001b[0;32m   3543\u001b[0m     frame\u001b[39m=\u001b[39mdf,\n\u001b[0;32m   3544\u001b[0m     header\u001b[39m=\u001b[39mheader,\n\u001b[1;32m   (...)\u001b[0m\n\u001b[0;32m   3548\u001b[0m     decimal\u001b[39m=\u001b[39mdecimal,\n\u001b[0;32m   3549\u001b[0m )\n\u001b[1;32m-> 3551\u001b[0m \u001b[39mreturn\u001b[39;00m DataFrameRenderer(formatter)\u001b[39m.\u001b[39;49mto_csv(\n\u001b[0;32m   3552\u001b[0m     path_or_buf,\n\u001b[0;32m   3553\u001b[0m     line_terminator\u001b[39m=\u001b[39;49mline_terminator,\n\u001b[0;32m   3554\u001b[0m     sep\u001b[39m=\u001b[39;49msep,\n\u001b[0;32m   3555\u001b[0m     encoding\u001b[39m=\u001b[39;49mencoding,\n\u001b[0;32m   3556\u001b[0m     errors\u001b[39m=\u001b[39;49merrors,\n\u001b[0;32m   3557\u001b[0m     compression\u001b[39m=\u001b[39;49mcompression,\n\u001b[0;32m   3558\u001b[0m     quoting\u001b[39m=\u001b[39;49mquoting,\n\u001b[0;32m   3559\u001b[0m     columns\u001b[39m=\u001b[39;49mcolumns,\n\u001b[0;32m   3560\u001b[0m     index_label\u001b[39m=\u001b[39;49mindex_label,\n\u001b[0;32m   3561\u001b[0m     mode\u001b[39m=\u001b[39;49mmode,\n\u001b[0;32m   3562\u001b[0m     chunksize\u001b[39m=\u001b[39;49mchunksize,\n\u001b[0;32m   3563\u001b[0m     quotechar\u001b[39m=\u001b[39;49mquotechar,\n\u001b[0;32m   3564\u001b[0m     date_format\u001b[39m=\u001b[39;49mdate_format,\n\u001b[0;32m   3565\u001b[0m     doublequote\u001b[39m=\u001b[39;49mdoublequote,\n\u001b[0;32m   3566\u001b[0m     escapechar\u001b[39m=\u001b[39;49mescapechar,\n\u001b[0;32m   3567\u001b[0m     storage_options\u001b[39m=\u001b[39;49mstorage_options,\n\u001b[0;32m   3568\u001b[0m )\n",
      "File \u001b[1;32mc:\\Users\\te_sa\\anaconda3\\envs\\ironhack\\lib\\site-packages\\pandas\\io\\formats\\format.py:1180\u001b[0m, in \u001b[0;36mDataFrameRenderer.to_csv\u001b[1;34m(self, path_or_buf, encoding, sep, columns, index_label, mode, compression, quoting, quotechar, line_terminator, chunksize, date_format, doublequote, escapechar, errors, storage_options)\u001b[0m\n\u001b[0;32m   1159\u001b[0m     created_buffer \u001b[39m=\u001b[39m \u001b[39mFalse\u001b[39;00m\n\u001b[0;32m   1161\u001b[0m csv_formatter \u001b[39m=\u001b[39m CSVFormatter(\n\u001b[0;32m   1162\u001b[0m     path_or_buf\u001b[39m=\u001b[39mpath_or_buf,\n\u001b[0;32m   1163\u001b[0m     line_terminator\u001b[39m=\u001b[39mline_terminator,\n\u001b[1;32m   (...)\u001b[0m\n\u001b[0;32m   1178\u001b[0m     formatter\u001b[39m=\u001b[39m\u001b[39mself\u001b[39m\u001b[39m.\u001b[39mfmt,\n\u001b[0;32m   1179\u001b[0m )\n\u001b[1;32m-> 1180\u001b[0m csv_formatter\u001b[39m.\u001b[39;49msave()\n\u001b[0;32m   1182\u001b[0m \u001b[39mif\u001b[39;00m created_buffer:\n\u001b[0;32m   1183\u001b[0m     \u001b[39massert\u001b[39;00m \u001b[39misinstance\u001b[39m(path_or_buf, StringIO)\n",
      "File \u001b[1;32mc:\\Users\\te_sa\\anaconda3\\envs\\ironhack\\lib\\site-packages\\pandas\\io\\formats\\csvs.py:261\u001b[0m, in \u001b[0;36mCSVFormatter.save\u001b[1;34m(self)\u001b[0m\n\u001b[0;32m    241\u001b[0m \u001b[39mwith\u001b[39;00m get_handle(\n\u001b[0;32m    242\u001b[0m     \u001b[39mself\u001b[39m\u001b[39m.\u001b[39mfilepath_or_buffer,\n\u001b[0;32m    243\u001b[0m     \u001b[39mself\u001b[39m\u001b[39m.\u001b[39mmode,\n\u001b[1;32m   (...)\u001b[0m\n\u001b[0;32m    249\u001b[0m \n\u001b[0;32m    250\u001b[0m     \u001b[39m# Note: self.encoding is irrelevant here\u001b[39;00m\n\u001b[0;32m    251\u001b[0m     \u001b[39mself\u001b[39m\u001b[39m.\u001b[39mwriter \u001b[39m=\u001b[39m csvlib\u001b[39m.\u001b[39mwriter(\n\u001b[0;32m    252\u001b[0m         handles\u001b[39m.\u001b[39mhandle,\n\u001b[0;32m    253\u001b[0m         lineterminator\u001b[39m=\u001b[39m\u001b[39mself\u001b[39m\u001b[39m.\u001b[39mline_terminator,\n\u001b[1;32m   (...)\u001b[0m\n\u001b[0;32m    258\u001b[0m         quotechar\u001b[39m=\u001b[39m\u001b[39mself\u001b[39m\u001b[39m.\u001b[39mquotechar,\n\u001b[0;32m    259\u001b[0m     )\n\u001b[1;32m--> 261\u001b[0m     \u001b[39mself\u001b[39;49m\u001b[39m.\u001b[39;49m_save()\n",
      "File \u001b[1;32mc:\\Users\\te_sa\\anaconda3\\envs\\ironhack\\lib\\site-packages\\pandas\\io\\formats\\csvs.py:266\u001b[0m, in \u001b[0;36mCSVFormatter._save\u001b[1;34m(self)\u001b[0m\n\u001b[0;32m    264\u001b[0m \u001b[39mif\u001b[39;00m \u001b[39mself\u001b[39m\u001b[39m.\u001b[39m_need_to_save_header:\n\u001b[0;32m    265\u001b[0m     \u001b[39mself\u001b[39m\u001b[39m.\u001b[39m_save_header()\n\u001b[1;32m--> 266\u001b[0m \u001b[39mself\u001b[39;49m\u001b[39m.\u001b[39;49m_save_body()\n",
      "File \u001b[1;32mc:\\Users\\te_sa\\anaconda3\\envs\\ironhack\\lib\\site-packages\\pandas\\io\\formats\\csvs.py:304\u001b[0m, in \u001b[0;36mCSVFormatter._save_body\u001b[1;34m(self)\u001b[0m\n\u001b[0;32m    302\u001b[0m \u001b[39mif\u001b[39;00m start_i \u001b[39m>\u001b[39m\u001b[39m=\u001b[39m end_i:\n\u001b[0;32m    303\u001b[0m     \u001b[39mbreak\u001b[39;00m\n\u001b[1;32m--> 304\u001b[0m \u001b[39mself\u001b[39;49m\u001b[39m.\u001b[39;49m_save_chunk(start_i, end_i)\n",
      "File \u001b[1;32mc:\\Users\\te_sa\\anaconda3\\envs\\ironhack\\lib\\site-packages\\pandas\\io\\formats\\csvs.py:315\u001b[0m, in \u001b[0;36mCSVFormatter._save_chunk\u001b[1;34m(self, start_i, end_i)\u001b[0m\n\u001b[0;32m    312\u001b[0m data \u001b[39m=\u001b[39m [res\u001b[39m.\u001b[39miget_values(i) \u001b[39mfor\u001b[39;00m i \u001b[39min\u001b[39;00m \u001b[39mrange\u001b[39m(\u001b[39mlen\u001b[39m(res\u001b[39m.\u001b[39mitems))]\n\u001b[0;32m    314\u001b[0m ix \u001b[39m=\u001b[39m \u001b[39mself\u001b[39m\u001b[39m.\u001b[39mdata_index[slicer]\u001b[39m.\u001b[39m_format_native_types(\u001b[39m*\u001b[39m\u001b[39m*\u001b[39m\u001b[39mself\u001b[39m\u001b[39m.\u001b[39m_number_format)\n\u001b[1;32m--> 315\u001b[0m libwriters\u001b[39m.\u001b[39;49mwrite_csv_rows(\n\u001b[0;32m    316\u001b[0m     data,\n\u001b[0;32m    317\u001b[0m     ix,\n\u001b[0;32m    318\u001b[0m     \u001b[39mself\u001b[39;49m\u001b[39m.\u001b[39;49mnlevels,\n\u001b[0;32m    319\u001b[0m     \u001b[39mself\u001b[39;49m\u001b[39m.\u001b[39;49mcols,\n\u001b[0;32m    320\u001b[0m     \u001b[39mself\u001b[39;49m\u001b[39m.\u001b[39;49mwriter,\n\u001b[0;32m    321\u001b[0m )\n",
      "File \u001b[1;32mc:\\Users\\te_sa\\anaconda3\\envs\\ironhack\\lib\\site-packages\\pandas\\_libs\\writers.pyx:55\u001b[0m, in \u001b[0;36mpandas._libs.writers.write_csv_rows\u001b[1;34m()\u001b[0m\n",
      "\u001b[1;31mUnicodeEncodeError\u001b[0m: 'latin-1' codec can't encode character '\\u201a' in position 60: ordinal not in range(256)"
     ]
    }
   ],
   "source": [
    "for period in period_list:\n",
    "    html=parameters_to_select(driver,age,theme,period)\n",
    "\n",
    "        # ##use beautiful soup to extract the data we want\n",
    "    soup = BeautifulSoup(html)\n",
    "\n",
    "    ## get the number of result pages\n",
    "\n",
    "    nr_pages=soup.find_all(\"a\",attrs={\"href\":\"./?\"})\n",
    "    #display(nr_pages)\n",
    "    nr_pages=list(set([i.text for i in nr_pages]))\n",
    "    nr_pages.sort()\n",
    "    if \".\" in nr_pages[0]:\n",
    "        ref_number=int(nr_pages[0].strip(\"...\"))\n",
    "    else:\n",
    "        ref_number=int(nr_pages[-1])\n",
    "    page_results=list(range(1,ref_number+1))\n",
    "    #nr_pages[0].find(\"onclick\")\n",
    "    book_titles=[]\n",
    "    book_author=[]\n",
    "    book_editor=[]\n",
    "\n",
    "    PNL_df=get_book_details(soup,page_results)\n",
    "\n",
    "    export_csv(PNL_df)\n"
   ]
  },
  {
   "cell_type": "code",
   "execution_count": null,
   "metadata": {},
   "outputs": [],
   "source": [
    "\n",
    "\n"
   ]
  },
  {
   "cell_type": "code",
   "execution_count": null,
   "metadata": {},
   "outputs": [],
   "source": [
    "\n"
   ]
  },
  {
   "cell_type": "code",
   "execution_count": null,
   "metadata": {},
   "outputs": [],
   "source": []
  },
  {
   "cell_type": "code",
   "execution_count": null,
   "metadata": {},
   "outputs": [],
   "source": []
  }
 ],
 "metadata": {
  "kernelspec": {
   "display_name": "Python 3.9.13 ('ironhack')",
   "language": "python",
   "name": "python3"
  },
  "language_info": {
   "codemirror_mode": {
    "name": "ipython",
    "version": 3
   },
   "file_extension": ".py",
   "mimetype": "text/x-python",
   "name": "python",
   "nbconvert_exporter": "python",
   "pygments_lexer": "ipython3",
   "version": "3.9.13"
  },
  "orig_nbformat": 4,
  "vscode": {
   "interpreter": {
    "hash": "4a38339ccb09af62c11572ee1f8d8bf4c38a6a8e49e8be3ae680a571cc75115c"
   }
  }
 },
 "nbformat": 4,
 "nbformat_minor": 2
}

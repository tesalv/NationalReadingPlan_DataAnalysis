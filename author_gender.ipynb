{
 "cells": [
  {
   "cell_type": "code",
   "execution_count": 1,
   "metadata": {},
   "outputs": [],
   "source": [
    "pip install gender-guesser"
   ]
  },
  {
   "cell_type": "code",
   "execution_count": null,
   "metadata": {},
   "outputs": [],
   "source": [
    "# import gender_guesser.detector as gender\n",
    "# import pandas as pd\n",
    "\n",
    "# # instatiate the detector\n",
    "# d = gender.Detector()\n",
    "\n",
    "# # this functions adds a gender column for a specific column\n",
    "# def guess_col_gender(col, suff='_gender', df=df, d=d):\n",
    "#     # extract first names by splitting by ' ' and choosing the first element\n",
    "#     first_names = [f.split(' ')[0] for f in df[col].tolist()]\n",
    "#     # guessing the gender\n",
    "#     genders = [d.get_gender(first_name) for first_name in first_names]\n",
    "#     # adding it as a col_gender column\n",
    "#     df[f'{col}{suff}'] = genders\n",
    "    \n",
    "#     return df\n",
    "    \n",
    "# # doing gender guessing for composers\n",
    "# df_g = guess_col_gender('composer', '_gender', df, d)"
   ]
  },
  {
   "cell_type": "code",
   "execution_count": 2,
   "metadata": {},
   "outputs": [],
   "source": [
    "import gender_guesser.detector as gender\n",
    "import pandas as pd\n",
    "\n",
    "# instatiate the detector\n",
    "d = gender.Detector()"
   ]
  },
  {
   "cell_type": "code",
   "execution_count": 4,
   "metadata": {},
   "outputs": [],
   "source": [
    "df = pd.read_csv(\"miudosVoto_2022_2021_secundario.csv\")"
   ]
  },
  {
   "cell_type": "code",
   "execution_count": 5,
   "metadata": {},
   "outputs": [],
   "source": [
    "# this functions adds a gender column for a specific column\n",
    "def guess_col_gender(col, suff='_gender', df=df, d=d):\n",
    "    # extract first names by splitting by ' ' and choosing the first element\n",
    "    first_names = [f.split(' ')[0] for f in df[col].tolist()]\n",
    "    # guessing the gender\n",
    "    genders = [d.get_gender(first_name) for first_name in first_names]\n",
    "    # adding it as a col_gender column\n",
    "    df[f'{col}{suff}'] = genders\n",
    "    \n",
    "    return df"
   ]
  },
  {
   "cell_type": "code",
   "execution_count": 6,
   "metadata": {},
   "outputs": [],
   "source": [
    "# doing gender guessing for composers\n",
    "df_g = guess_col_gender('AuthorName', '_gender', df, d)"
   ]
  },
  {
   "cell_type": "code",
   "execution_count": 7,
   "metadata": {},
   "outputs": [
    {
     "data": {
      "text/html": [
       "<div>\n",
       "<style scoped>\n",
       "    .dataframe tbody tr th:only-of-type {\n",
       "        vertical-align: middle;\n",
       "    }\n",
       "\n",
       "    .dataframe tbody tr th {\n",
       "        vertical-align: top;\n",
       "    }\n",
       "\n",
       "    .dataframe thead th {\n",
       "        text-align: right;\n",
       "    }\n",
       "</style>\n",
       "<table border=\"1\" class=\"dataframe\">\n",
       "  <thead>\n",
       "    <tr style=\"text-align: right;\">\n",
       "      <th></th>\n",
       "      <th>Unnamed: 0</th>\n",
       "      <th>TitleName</th>\n",
       "      <th>AuthorName</th>\n",
       "      <th>AuthorName_gender</th>\n",
       "    </tr>\n",
       "  </thead>\n",
       "  <tbody>\n",
       "    <tr>\n",
       "      <th>0</th>\n",
       "      <td>0</td>\n",
       "      <td>O Diário de Anne Frank</td>\n",
       "      <td>Anne Frank</td>\n",
       "      <td>female</td>\n",
       "    </tr>\n",
       "    <tr>\n",
       "      <th>1</th>\n",
       "      <td>1</td>\n",
       "      <td>O Principezinho</td>\n",
       "      <td>Antoine de Sant-Exupéry</td>\n",
       "      <td>male</td>\n",
       "    </tr>\n",
       "    <tr>\n",
       "      <th>2</th>\n",
       "      <td>2</td>\n",
       "      <td>Foi Sem Querer Que Te Quis</td>\n",
       "      <td>Raul Minh' Alma</td>\n",
       "      <td>male</td>\n",
       "    </tr>\n",
       "    <tr>\n",
       "      <th>3</th>\n",
       "      <td>3</td>\n",
       "      <td>O Rapaz do Pijama às Riscas</td>\n",
       "      <td>John Byone</td>\n",
       "      <td>male</td>\n",
       "    </tr>\n",
       "    <tr>\n",
       "      <th>4</th>\n",
       "      <td>4</td>\n",
       "      <td>A Culpa É das Estrelas</td>\n",
       "      <td>John Green</td>\n",
       "      <td>male</td>\n",
       "    </tr>\n",
       "    <tr>\n",
       "      <th>...</th>\n",
       "      <td>...</td>\n",
       "      <td>...</td>\n",
       "      <td>...</td>\n",
       "      <td>...</td>\n",
       "    </tr>\n",
       "    <tr>\n",
       "      <th>414</th>\n",
       "      <td>414</td>\n",
       "      <td>Will e Will</td>\n",
       "      <td>John Green</td>\n",
       "      <td>male</td>\n",
       "    </tr>\n",
       "    <tr>\n",
       "      <th>415</th>\n",
       "      <td>415</td>\n",
       "      <td>Terra Sonâmbula</td>\n",
       "      <td>Mia Couto</td>\n",
       "      <td>female</td>\n",
       "    </tr>\n",
       "    <tr>\n",
       "      <th>416</th>\n",
       "      <td>416</td>\n",
       "      <td>The Beginning After The End: Ascension (Livro 8)</td>\n",
       "      <td>Turtleme</td>\n",
       "      <td>unknown</td>\n",
       "    </tr>\n",
       "    <tr>\n",
       "      <th>417</th>\n",
       "      <td>417</td>\n",
       "      <td>You Are Awesome</td>\n",
       "      <td>Matthew Syed</td>\n",
       "      <td>male</td>\n",
       "    </tr>\n",
       "    <tr>\n",
       "      <th>418</th>\n",
       "      <td>418</td>\n",
       "      <td>The Eyes Of The Dragon</td>\n",
       "      <td>Stephen King</td>\n",
       "      <td>male</td>\n",
       "    </tr>\n",
       "  </tbody>\n",
       "</table>\n",
       "<p>419 rows × 4 columns</p>\n",
       "</div>"
      ],
      "text/plain": [
       "     Unnamed: 0                                         TitleName  \\\n",
       "0             0                            O Diário de Anne Frank   \n",
       "1             1                                   O Principezinho   \n",
       "2             2                        Foi Sem Querer Que Te Quis   \n",
       "3             3                       O Rapaz do Pijama às Riscas   \n",
       "4             4                            A Culpa É das Estrelas   \n",
       "..          ...                                               ...   \n",
       "414         414                                       Will e Will   \n",
       "415         415                                   Terra Sonâmbula   \n",
       "416         416  The Beginning After The End: Ascension (Livro 8)   \n",
       "417         417                                   You Are Awesome   \n",
       "418         418                            The Eyes Of The Dragon   \n",
       "\n",
       "                  AuthorName AuthorName_gender  \n",
       "0                 Anne Frank            female  \n",
       "1    Antoine de Sant-Exupéry              male  \n",
       "2            Raul Minh' Alma              male  \n",
       "3                 John Byone              male  \n",
       "4                 John Green              male  \n",
       "..                       ...               ...  \n",
       "414               John Green              male  \n",
       "415                Mia Couto            female  \n",
       "416                 Turtleme           unknown  \n",
       "417             Matthew Syed              male  \n",
       "418             Stephen King              male  \n",
       "\n",
       "[419 rows x 4 columns]"
      ]
     },
     "execution_count": 7,
     "metadata": {},
     "output_type": "execute_result"
    }
   ],
   "source": [
    "df_g"
   ]
  },
  {
   "cell_type": "code",
   "execution_count": 8,
   "metadata": {},
   "outputs": [],
   "source": [
    "df_g.to_csv(\"miudosVoto_2022_2021_secundario_Gender.csv\")"
   ]
  },
  {
   "cell_type": "code",
   "execution_count": null,
   "metadata": {},
   "outputs": [],
   "source": []
  }
 ],
 "metadata": {
  "kernelspec": {
   "display_name": "Python 3.9.13 ('ironhack')",
   "language": "python",
   "name": "python3"
  },
  "language_info": {
   "codemirror_mode": {
    "name": "ipython",
    "version": 3
   },
   "file_extension": ".py",
   "mimetype": "text/x-python",
   "name": "python",
   "nbconvert_exporter": "python",
   "pygments_lexer": "ipython3",
   "version": "3.9.13"
  },
  "orig_nbformat": 4,
  "vscode": {
   "interpreter": {
    "hash": "c5443476776cb7258969cc21467ab4d201260bb99f152c45b3096be400fd794d"
   }
  }
 },
 "nbformat": 4,
 "nbformat_minor": 2
}
